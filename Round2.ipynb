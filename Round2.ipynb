{
  "nbformat": 4,
  "nbformat_minor": 0,
  "metadata": {
    "colab": {
      "name": "Round2.ipynb",
      "provenance": [],
      "collapsed_sections": [],
      "authorship_tag": "ABX9TyN9Mw7aArKu7CdFjR/vEGor",
      "include_colab_link": true
    },
    "kernelspec": {
      "name": "python3",
      "display_name": "Python 3"
    }
  },
  "cells": [
    {
      "cell_type": "markdown",
      "metadata": {
        "id": "view-in-github",
        "colab_type": "text"
      },
      "source": [
        "<a href=\"https://colab.research.google.com/github/nhatminh-it/CS114.K21/blob/master/Round2.ipynb\" target=\"_parent\"><img src=\"https://colab.research.google.com/assets/colab-badge.svg\" alt=\"Open In Colab\"/></a>"
      ]
    },
    {
      "cell_type": "markdown",
      "metadata": {
        "id": "5Xob6YS8u-FE",
        "colab_type": "text"
      },
      "source": [
        "# **PREDICT TIME TO RUN FROM SIZE DATA**"
      ]
    },
    {
      "cell_type": "code",
      "metadata": {
        "id": "xmFpPjeyWwjo",
        "colab_type": "code",
        "outputId": "783c1074-91cb-4b46-e146-e01d76bd5c96",
        "colab": {
          "base_uri": "https://localhost:8080/",
          "height": 70
        }
      },
      "source": [
        "import pandas as pd\n",
        "import numpy as np\n",
        "import seaborn as sns\n",
        "import matplotlib.pyplot as plt\n",
        "from pandas.plotting import scatter_matrix\n",
        "from sklearn.model_selection import train_test_split\n",
        "from sklearn.tree import DecisionTreeRegressor\n",
        "from sklearn.linear_model import LinearRegression\n",
        "from sklearn.metrics import mean_absolute_error\n",
        "from sklearn.svm import SVR\n",
        "from sklearn.ensemble import RandomForestRegressor"
      ],
      "execution_count": 1,
      "outputs": [
        {
          "output_type": "stream",
          "text": [
            "/usr/local/lib/python3.6/dist-packages/statsmodels/tools/_testing.py:19: FutureWarning: pandas.util.testing is deprecated. Use the functions in the public API at pandas.testing instead.\n",
            "  import pandas.util.testing as tm\n"
          ],
          "name": "stderr"
        }
      ]
    },
    {
      "cell_type": "markdown",
      "metadata": {
        "id": "kpoU5OuWvWA-",
        "colab_type": "text"
      },
      "source": [
        "#### **Load, check, handing data**"
      ]
    },
    {
      "cell_type": "markdown",
      "metadata": {
        "id": "2R0jaRiTutDB",
        "colab_type": "text"
      },
      "source": [
        "Lấy dữ liệu xuống thế nào?\n",
        "Sử dụng thư viện pandas để đọc file"
      ]
    },
    {
      "cell_type": "code",
      "metadata": {
        "id": "ewVetOJoW1P9",
        "colab_type": "code",
        "colab": {}
      },
      "source": [
        "dataset = pd.read_csv(\"http://cs.uit.edu.vn/data2.txt\", names =['size', 'time'] )"
      ],
      "execution_count": 0,
      "outputs": []
    },
    {
      "cell_type": "code",
      "metadata": {
        "id": "BPhdO8hHXG_t",
        "colab_type": "code",
        "outputId": "5adbc7a8-238a-48d1-8d0b-a1c3ae815fed",
        "colab": {
          "base_uri": "https://localhost:8080/",
          "height": 195
        }
      },
      "source": [
        "dataset.head()"
      ],
      "execution_count": 3,
      "outputs": [
        {
          "output_type": "execute_result",
          "data": {
            "text/html": [
              "<div>\n",
              "<style scoped>\n",
              "    .dataframe tbody tr th:only-of-type {\n",
              "        vertical-align: middle;\n",
              "    }\n",
              "\n",
              "    .dataframe tbody tr th {\n",
              "        vertical-align: top;\n",
              "    }\n",
              "\n",
              "    .dataframe thead th {\n",
              "        text-align: right;\n",
              "    }\n",
              "</style>\n",
              "<table border=\"1\" class=\"dataframe\">\n",
              "  <thead>\n",
              "    <tr style=\"text-align: right;\">\n",
              "      <th></th>\n",
              "      <th>size</th>\n",
              "      <th>time</th>\n",
              "    </tr>\n",
              "  </thead>\n",
              "  <tbody>\n",
              "    <tr>\n",
              "      <th>0</th>\n",
              "      <td>6083695</td>\n",
              "      <td>0.521842</td>\n",
              "    </tr>\n",
              "    <tr>\n",
              "      <th>1</th>\n",
              "      <td>1954367</td>\n",
              "      <td>0.152648</td>\n",
              "    </tr>\n",
              "    <tr>\n",
              "      <th>2</th>\n",
              "      <td>3734185</td>\n",
              "      <td>0.298548</td>\n",
              "    </tr>\n",
              "    <tr>\n",
              "      <th>3</th>\n",
              "      <td>5839301</td>\n",
              "      <td>0.460480</td>\n",
              "    </tr>\n",
              "    <tr>\n",
              "      <th>4</th>\n",
              "      <td>6343427</td>\n",
              "      <td>0.527977</td>\n",
              "    </tr>\n",
              "  </tbody>\n",
              "</table>\n",
              "</div>"
            ],
            "text/plain": [
              "      size      time\n",
              "0  6083695  0.521842\n",
              "1  1954367  0.152648\n",
              "2  3734185  0.298548\n",
              "3  5839301  0.460480\n",
              "4  6343427  0.527977"
            ]
          },
          "metadata": {
            "tags": []
          },
          "execution_count": 3
        }
      ]
    },
    {
      "cell_type": "code",
      "metadata": {
        "id": "jnCnO_Os_d-W",
        "colab_type": "code",
        "outputId": "411bb984-d919-48b9-d268-36ebb836db69",
        "colab": {
          "base_uri": "https://localhost:8080/",
          "height": 284
        }
      },
      "source": [
        "dataset.describe()"
      ],
      "execution_count": 4,
      "outputs": [
        {
          "output_type": "execute_result",
          "data": {
            "text/html": [
              "<div>\n",
              "<style scoped>\n",
              "    .dataframe tbody tr th:only-of-type {\n",
              "        vertical-align: middle;\n",
              "    }\n",
              "\n",
              "    .dataframe tbody tr th {\n",
              "        vertical-align: top;\n",
              "    }\n",
              "\n",
              "    .dataframe thead th {\n",
              "        text-align: right;\n",
              "    }\n",
              "</style>\n",
              "<table border=\"1\" class=\"dataframe\">\n",
              "  <thead>\n",
              "    <tr style=\"text-align: right;\">\n",
              "      <th></th>\n",
              "      <th>size</th>\n",
              "      <th>time</th>\n",
              "    </tr>\n",
              "  </thead>\n",
              "  <tbody>\n",
              "    <tr>\n",
              "      <th>count</th>\n",
              "      <td>7.111500e+04</td>\n",
              "      <td>71115.000000</td>\n",
              "    </tr>\n",
              "    <tr>\n",
              "      <th>mean</th>\n",
              "      <td>4.998766e+06</td>\n",
              "      <td>0.406785</td>\n",
              "    </tr>\n",
              "    <tr>\n",
              "      <th>std</th>\n",
              "      <td>2.882618e+06</td>\n",
              "      <td>0.244039</td>\n",
              "    </tr>\n",
              "    <tr>\n",
              "      <th>min</th>\n",
              "      <td>2.550000e+02</td>\n",
              "      <td>0.000009</td>\n",
              "    </tr>\n",
              "    <tr>\n",
              "      <th>25%</th>\n",
              "      <td>2.496521e+06</td>\n",
              "      <td>0.192746</td>\n",
              "    </tr>\n",
              "    <tr>\n",
              "      <th>50%</th>\n",
              "      <td>5.010144e+06</td>\n",
              "      <td>0.403410</td>\n",
              "    </tr>\n",
              "    <tr>\n",
              "      <th>75%</th>\n",
              "      <td>7.481742e+06</td>\n",
              "      <td>0.616155</td>\n",
              "    </tr>\n",
              "    <tr>\n",
              "      <th>max</th>\n",
              "      <td>9.999882e+06</td>\n",
              "      <td>0.983776</td>\n",
              "    </tr>\n",
              "  </tbody>\n",
              "</table>\n",
              "</div>"
            ],
            "text/plain": [
              "               size          time\n",
              "count  7.111500e+04  71115.000000\n",
              "mean   4.998766e+06      0.406785\n",
              "std    2.882618e+06      0.244039\n",
              "min    2.550000e+02      0.000009\n",
              "25%    2.496521e+06      0.192746\n",
              "50%    5.010144e+06      0.403410\n",
              "75%    7.481742e+06      0.616155\n",
              "max    9.999882e+06      0.983776"
            ]
          },
          "metadata": {
            "tags": []
          },
          "execution_count": 4
        }
      ]
    },
    {
      "cell_type": "markdown",
      "metadata": {
        "id": "1xYa5ZOgwFUY",
        "colab_type": "text"
      },
      "source": [
        "#### **Data visualization**"
      ]
    },
    {
      "cell_type": "code",
      "metadata": {
        "id": "pIqOWemSwvgQ",
        "colab_type": "code",
        "outputId": "4ba14478-0bdf-4bfd-82af-5727696044ab",
        "colab": {
          "base_uri": "https://localhost:8080/",
          "height": 228
        }
      },
      "source": [
        "plt.figure(figsize=(8,8))\n",
        "features = dataset.columns[:-1]\n",
        "sns.pairplot(dataset[features],palette='coolwarm')\n",
        "plt.show()"
      ],
      "execution_count": 5,
      "outputs": [
        {
          "output_type": "display_data",
          "data": {
            "text/plain": [
              "<Figure size 576x576 with 0 Axes>"
            ]
          },
          "metadata": {
            "tags": []
          }
        },
        {
          "output_type": "display_data",
          "data": {
            "image/png": "[encoded data removed]",
            "text/plain": [
              "<Figure size 180x180 with 2 Axes>"
            ]
          },
          "metadata": {
            "tags": [],
            "needs_background": "light"
          }
        }
      ]
    },
    {
      "cell_type": "code",
      "metadata": {
        "id": "ezYO52TlSlQq",
        "colab_type": "code",
        "outputId": "724403b5-ad3e-4e77-81d2-33edc1a2f1be",
        "colab": {
          "base_uri": "https://localhost:8080/",
          "height": 837
        }
      },
      "source": [
        "X_size = dataset['size']\n",
        "y_size = dataset['time']\n",
        "plt.title('Relationship between X and Y')\n",
        "plt.scatter(X_size, y_size,  color='black')\n",
        "plt.xlabel('X_size')\n",
        "plt.ylabel('Y_size')\n",
        "plt.show()\n",
        "\n",
        "plt.subplot(1, 2, 1)\n",
        "plt.title('X_size')\n",
        "plt.hist(X_size)\n",
        "\n",
        "plt.subplot(1, 2, 2)\n",
        "plt.title('y_size')\n",
        "plt.hist(y_size)\n",
        "plt.show()\n",
        "\n",
        "plt.subplot(1, 2, 1)\n",
        "plt.title('X_size')\n",
        "plt.boxplot(X_size)\n",
        "\n",
        "plt.subplot(1, 2, 2)\n",
        "plt.title('y_size')\n",
        "plt.boxplot(y_size)\n",
        "plt.show()"
      ],
      "execution_count": 6,
      "outputs": [
        {
          "output_type": "display_data",
          "data": {
            "image/png": "[encoded data removed]",
            "text/plain": [
              "<Figure size 432x288 with 1 Axes>"
            ]
          },
          "metadata": {
            "tags": [],
            "needs_background": "light"
          }
        },
        {
          "output_type": "display_data",
          "data": {
            "image/png": "[encoded data removed]",
            "text/plain": [
              "<Figure size 432x288 with 2 Axes>"
            ]
          },
          "metadata": {
            "tags": [],
            "needs_background": "light"
          }
        },
        {
          "output_type": "display_data",
          "data": {
            "image/png": "[encoded data removed]",
            "text/plain": [
              "<Figure size 432x288 with 2 Axes>"
            ]
          },
          "metadata": {
            "tags": [],
            "needs_background": "light"
          }
        }
      ]
    },
    {
      "cell_type": "markdown",
      "metadata": {
        "id": "d8F7qma9Smnt",
        "colab_type": "text"
      },
      "source": [
        "#### **Evaluate Some Algorithms**"
      ]
    },
    {
      "cell_type": "markdown",
      "metadata": {
        "id": "T_4KnDN3vc1x",
        "colab_type": "text"
      },
      "source": [
        "Chọn model và train thế nào? \n",
        "\n",
        "1.   Đánh giá một vài model\n",
        "2.   Chọn model tốt nhất để train\n",
        "\n"
      ]
    },
    {
      "cell_type": "code",
      "metadata": {
        "id": "XHyquIFF_fiC",
        "colab_type": "code",
        "colab": {}
      },
      "source": [
        "# Chia data\n",
        "X = dataset['size']\n",
        "y = dataset['time']\n",
        "X_train, X_validation, Y_train, Y_validation = train_test_split(X, y, test_size=0.20, random_state=1)\n",
        "X_train = X_train.values.reshape(-1,1)\n",
        "X_validation = X_validation.values.reshape(-1,1)\n",
        "Y_train = Y_train.values.reshape(-1,1)\n",
        "Y_validation = Y_validation.values.reshape(-1,1)"
      ],
      "execution_count": 0,
      "outputs": []
    },
    {
      "cell_type": "code",
      "metadata": {
        "id": "_LO9-Pa2_bBo",
        "colab_type": "code",
        "outputId": "e3fe2491-559d-45e9-9a4d-d51ad4b15f7e",
        "colab": {
          "base_uri": "https://localhost:8080/",
          "height": 171
        }
      },
      "source": [
        "# Đánh giá một số model\n",
        "models = []\n",
        "models.append(('LR :', LinearRegression())) #Linear Regression\n",
        "models.append(('SVR:', SVR())) #Support Vector Regression\n",
        "models.append(('DTR:', DecisionTreeRegressor(random_state=1))) #Decision Tree Regression\n",
        "models.append(('RFR:', RandomForestRegressor(n_estimators = 10, random_state=1))) #Random Forest Regression\n",
        "# Evaluate each model in turn\n",
        "names = []\n",
        "for name, model in models:\n",
        "  model.fit(X_train,Y_train)\n",
        "  y_predict = model.predict(X_validation)\n",
        "  results = mean_absolute_error(Y_validation,y_predict)\n",
        "  print(name,results)"
      ],
      "execution_count": 8,
      "outputs": [
        {
          "output_type": "stream",
          "text": [
            "LR : 0.00831551754510758\n",
            "SVR: 0.06872256811230473\n"
          ],
          "name": "stdout"
        },
        {
          "output_type": "stream",
          "text": [
            "/usr/local/lib/python3.6/dist-packages/sklearn/utils/validation.py:760: DataConversionWarning: A column-vector y was passed when a 1d array was expected. Please change the shape of y to (n_samples, ), for example using ravel().\n",
            "  y = column_or_1d(y, warn=True)\n"
          ],
          "name": "stderr"
        },
        {
          "output_type": "stream",
          "text": [
            "DTR: 0.009799554658390212\n"
          ],
          "name": "stdout"
        },
        {
          "output_type": "stream",
          "text": [
            "/usr/local/lib/python3.6/dist-packages/ipykernel_launcher.py:10: DataConversionWarning: A column-vector y was passed when a 1d array was expected. Please change the shape of y to (n_samples,), for example using ravel().\n",
            "  # Remove the CWD from sys.path while we load stuff.\n"
          ],
          "name": "stderr"
        },
        {
          "output_type": "stream",
          "text": [
            "RFR: 0.008553830856725944\n"
          ],
          "name": "stdout"
        }
      ]
    },
    {
      "cell_type": "markdown",
      "metadata": {
        "id": "Fd6gSKNXTkQE",
        "colab_type": "text"
      },
      "source": [
        "#### **Linear Regression is the best model**\n",
        "Make predictions on validation dataset"
      ]
    },
    {
      "cell_type": "markdown",
      "metadata": {
        "id": "9KHUhQZZvq_q",
        "colab_type": "text"
      },
      "source": [
        "Viết ứng dụng thực hiện việc predict cho một mẫu dữ liệu mới thế nào?\n",
        "\n",
        "*   Tạo ra 1 mẫu dữ liệu mới bằng biến test\n",
        "*   Cho test vô model để dự đoán\n",
        "\n"
      ]
    },
    {
      "cell_type": "code",
      "metadata": {
        "id": "McP5hDQ1oc_D",
        "colab_type": "code",
        "outputId": "94245a18-6649-40d9-c2b3-ea201823f071",
        "colab": {
          "base_uri": "https://localhost:8080/",
          "height": 34
        }
      },
      "source": [
        "test = [[4032139]]\n",
        "LR_model = LinearRegression()\n",
        "LR_model.fit(X_train,Y_train)\n",
        "y = LR_model.predict(test)\n",
        "y"
      ],
      "execution_count": 9,
      "outputs": [
        {
          "output_type": "execute_result",
          "data": {
            "text/plain": [
              "array([[0.32502824]])"
            ]
          },
          "metadata": {
            "tags": []
          },
          "execution_count": 9
        }
      ]
    },
    {
      "cell_type": "markdown",
      "metadata": {
        "id": "LTKQuynjwAaY",
        "colab_type": "text"
      },
      "source": [
        "Khả năng dự đoán của ứng dụng là tốt hay không? Làm sao biết?\n",
        "\n",
        "*   Khả năng dự đoán của model là tốt\n",
        "*   Ở bước đánh giá model đã đánh giá giá trị mean absolute error của model linear regression là rất thấp ~ 0.0083\n",
        "\n"
      ]
    }
  ]
}