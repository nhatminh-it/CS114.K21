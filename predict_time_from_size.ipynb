{
  "nbformat": 4,
  "nbformat_minor": 0,
  "metadata": {
    "colab": {
      "name": "predict_time_from_size.ipynb",
      "provenance": [],
      "collapsed_sections": [],
      "authorship_tag": "ABX9TyNBIqucD1qCoS+e9mv7Bdlt",
      "include_colab_link": true
    },
    "kernelspec": {
      "name": "python3",
      "display_name": "Python 3"
    }
  },
  "cells": [
    {
      "cell_type": "markdown",
      "metadata": {
        "id": "view-in-github",
        "colab_type": "text"
      },
      "source": [
        "<a href=\"https://colab.research.google.com/github/nhatminh-it/CS114.K21/blob/master/predict_time_from_size.ipynb\" target=\"_parent\"><img src=\"https://colab.research.google.com/assets/colab-badge.svg\" alt=\"Open In Colab\"/></a>"
      ]
    },
    {
      "cell_type": "markdown",
      "metadata": {
        "id": "5Xob6YS8u-FE",
        "colab_type": "text"
      },
      "source": [
        "# **PREDICT TIME TO RUN FROM SIZE DATA**"
      ]
    },
    {
      "cell_type": "code",
      "metadata": {
        "id": "xmFpPjeyWwjo",
        "colab_type": "code",
        "outputId": "67e106a0-9594-482f-fc7f-c0fd4290efff",
        "colab": {
          "base_uri": "https://localhost:8080/",
          "height": 70
        }
      },
      "source": [
        "import pandas as pd\n",
        "import numpy as np\n",
        "import seaborn as sns\n",
        "import matplotlib.pyplot as plt\n",
        "from pandas.plotting import scatter_matrix\n",
        "from sklearn.model_selection import train_test_split\n",
        "from sklearn.tree import DecisionTreeRegressor\n",
        "from sklearn.linear_model import LinearRegression\n",
        "from sklearn.metrics import mean_absolute_error\n",
        "from sklearn.svm import SVR\n",
        "from sklearn.ensemble import RandomForestRegressor"
      ],
      "execution_count": 1,
      "outputs": [
        {
          "output_type": "stream",
          "text": [
            "/usr/local/lib/python3.6/dist-packages/statsmodels/tools/_testing.py:19: FutureWarning: pandas.util.testing is deprecated. Use the functions in the public API at pandas.testing instead.\n",
            "  import pandas.util.testing as tm\n"
          ],
          "name": "stderr"
        }
      ]
    },
    {
      "cell_type": "markdown",
      "metadata": {
        "id": "kpoU5OuWvWA-",
        "colab_type": "text"
      },
      "source": [
        "#### **Load, check, handing data**"
      ]
    },
    {
      "cell_type": "code",
      "metadata": {
        "id": "ewVetOJoW1P9",
        "colab_type": "code",
        "colab": {}
      },
      "source": [
        "dataset = pd.read_csv(\"https://cs.uit.edu.vn/data.txt\", names =['size', 'time'] )"
      ],
      "execution_count": 0,
      "outputs": []
    },
    {
      "cell_type": "code",
      "metadata": {
        "id": "BPhdO8hHXG_t",
        "colab_type": "code",
        "outputId": "c16a8267-2990-48a6-cf75-bfe733148ac6",
        "colab": {
          "base_uri": "https://localhost:8080/",
          "height": 195
        }
      },
      "source": [
        "dataset.head()"
      ],
      "execution_count": 3,
      "outputs": [
        {
          "output_type": "execute_result",
          "data": {
            "text/html": [
              "<div>\n",
              "<style scoped>\n",
              "    .dataframe tbody tr th:only-of-type {\n",
              "        vertical-align: middle;\n",
              "    }\n",
              "\n",
              "    .dataframe tbody tr th {\n",
              "        vertical-align: top;\n",
              "    }\n",
              "\n",
              "    .dataframe thead th {\n",
              "        text-align: right;\n",
              "    }\n",
              "</style>\n",
              "<table border=\"1\" class=\"dataframe\">\n",
              "  <thead>\n",
              "    <tr style=\"text-align: right;\">\n",
              "      <th></th>\n",
              "      <th>size</th>\n",
              "      <th>time</th>\n",
              "    </tr>\n",
              "  </thead>\n",
              "  <tbody>\n",
              "    <tr>\n",
              "      <th>0</th>\n",
              "      <td>4032139</td>\n",
              "      <td>1.200580</td>\n",
              "    </tr>\n",
              "    <tr>\n",
              "      <th>1</th>\n",
              "      <td>2055486</td>\n",
              "      <td>0.509774</td>\n",
              "    </tr>\n",
              "    <tr>\n",
              "      <th>2</th>\n",
              "      <td>5626651</td>\n",
              "      <td>1.476080</td>\n",
              "    </tr>\n",
              "    <tr>\n",
              "      <th>3</th>\n",
              "      <td>42065</td>\n",
              "      <td>0.007651</td>\n",
              "    </tr>\n",
              "    <tr>\n",
              "      <th>4</th>\n",
              "      <td>6297788</td>\n",
              "      <td>1.661560</td>\n",
              "    </tr>\n",
              "  </tbody>\n",
              "</table>\n",
              "</div>"
            ],
            "text/plain": [
              "      size      time\n",
              "0  4032139  1.200580\n",
              "1  2055486  0.509774\n",
              "2  5626651  1.476080\n",
              "3    42065  0.007651\n",
              "4  6297788  1.661560"
            ]
          },
          "metadata": {
            "tags": []
          },
          "execution_count": 3
        }
      ]
    },
    {
      "cell_type": "code",
      "metadata": {
        "id": "ByEFSHfUYrDi",
        "colab_type": "code",
        "colab": {}
      },
      "source": [
        "dataset['size**2']=dataset['size']*dataset['size']\n",
        "dataset['size.log(size)']=dataset['size']*np.log10(dataset['size'])\n",
        "columns_titles = [\"size\",\"size**2\",\"size.log(size)\",\"time\"]\n",
        "dataset=dataset.reindex(columns=columns_titles)"
      ],
      "execution_count": 0,
      "outputs": []
    },
    {
      "cell_type": "code",
      "metadata": {
        "id": "YnuIESfwXKtv",
        "colab_type": "code",
        "outputId": "8b847a57-a0e2-467b-abb3-66d33bea3698",
        "colab": {
          "base_uri": "https://localhost:8080/",
          "height": 195
        }
      },
      "source": [
        "dataset.head()"
      ],
      "execution_count": 5,
      "outputs": [
        {
          "output_type": "execute_result",
          "data": {
            "text/html": [
              "<div>\n",
              "<style scoped>\n",
              "    .dataframe tbody tr th:only-of-type {\n",
              "        vertical-align: middle;\n",
              "    }\n",
              "\n",
              "    .dataframe tbody tr th {\n",
              "        vertical-align: top;\n",
              "    }\n",
              "\n",
              "    .dataframe thead th {\n",
              "        text-align: right;\n",
              "    }\n",
              "</style>\n",
              "<table border=\"1\" class=\"dataframe\">\n",
              "  <thead>\n",
              "    <tr style=\"text-align: right;\">\n",
              "      <th></th>\n",
              "      <th>size</th>\n",
              "      <th>size**2</th>\n",
              "      <th>size.log(size)</th>\n",
              "      <th>time</th>\n",
              "    </tr>\n",
              "  </thead>\n",
              "  <tbody>\n",
              "    <tr>\n",
              "      <th>0</th>\n",
              "      <td>4032139</td>\n",
              "      <td>16258144915321</td>\n",
              "      <td>2.663444e+07</td>\n",
              "      <td>1.200580</td>\n",
              "    </tr>\n",
              "    <tr>\n",
              "      <th>1</th>\n",
              "      <td>2055486</td>\n",
              "      <td>4225022696196</td>\n",
              "      <td>1.297611e+07</td>\n",
              "      <td>0.509774</td>\n",
              "    </tr>\n",
              "    <tr>\n",
              "      <th>2</th>\n",
              "      <td>5626651</td>\n",
              "      <td>31659201475801</td>\n",
              "      <td>3.798130e+07</td>\n",
              "      <td>1.476080</td>\n",
              "    </tr>\n",
              "    <tr>\n",
              "      <th>3</th>\n",
              "      <td>42065</td>\n",
              "      <td>1769464225</td>\n",
              "      <td>1.945052e+05</td>\n",
              "      <td>0.007651</td>\n",
              "    </tr>\n",
              "    <tr>\n",
              "      <th>4</th>\n",
              "      <td>6297788</td>\n",
              "      <td>39662133692944</td>\n",
              "      <td>4.281984e+07</td>\n",
              "      <td>1.661560</td>\n",
              "    </tr>\n",
              "  </tbody>\n",
              "</table>\n",
              "</div>"
            ],
            "text/plain": [
              "      size         size**2  size.log(size)      time\n",
              "0  4032139  16258144915321    2.663444e+07  1.200580\n",
              "1  2055486   4225022696196    1.297611e+07  0.509774\n",
              "2  5626651  31659201475801    3.798130e+07  1.476080\n",
              "3    42065      1769464225    1.945052e+05  0.007651\n",
              "4  6297788  39662133692944    4.281984e+07  1.661560"
            ]
          },
          "metadata": {
            "tags": []
          },
          "execution_count": 5
        }
      ]
    },
    {
      "cell_type": "code",
      "metadata": {
        "id": "jnCnO_Os_d-W",
        "colab_type": "code",
        "outputId": "8037ea83-74f4-48c8-cfc7-474f53377d31",
        "colab": {
          "base_uri": "https://localhost:8080/",
          "height": 284
        }
      },
      "source": [
        "dataset.describe()"
      ],
      "execution_count": 6,
      "outputs": [
        {
          "output_type": "execute_result",
          "data": {
            "text/html": [
              "<div>\n",
              "<style scoped>\n",
              "    .dataframe tbody tr th:only-of-type {\n",
              "        vertical-align: middle;\n",
              "    }\n",
              "\n",
              "    .dataframe tbody tr th {\n",
              "        vertical-align: top;\n",
              "    }\n",
              "\n",
              "    .dataframe thead th {\n",
              "        text-align: right;\n",
              "    }\n",
              "</style>\n",
              "<table border=\"1\" class=\"dataframe\">\n",
              "  <thead>\n",
              "    <tr style=\"text-align: right;\">\n",
              "      <th></th>\n",
              "      <th>size</th>\n",
              "      <th>size**2</th>\n",
              "      <th>size.log(size)</th>\n",
              "      <th>time</th>\n",
              "    </tr>\n",
              "  </thead>\n",
              "  <tbody>\n",
              "    <tr>\n",
              "      <th>count</th>\n",
              "      <td>5.211000e+03</td>\n",
              "      <td>5.211000e+03</td>\n",
              "      <td>5.211000e+03</td>\n",
              "      <td>5211.000000</td>\n",
              "    </tr>\n",
              "    <tr>\n",
              "      <th>mean</th>\n",
              "      <td>4.991583e+06</td>\n",
              "      <td>3.334470e+13</td>\n",
              "      <td>3.385943e+07</td>\n",
              "      <td>1.363322</td>\n",
              "    </tr>\n",
              "    <tr>\n",
              "      <th>std</th>\n",
              "      <td>2.903517e+06</td>\n",
              "      <td>2.997776e+13</td>\n",
              "      <td>2.053834e+07</td>\n",
              "      <td>0.825849</td>\n",
              "    </tr>\n",
              "    <tr>\n",
              "      <th>min</th>\n",
              "      <td>2.390000e+02</td>\n",
              "      <td>5.712100e+04</td>\n",
              "      <td>5.684371e+02</td>\n",
              "      <td>0.000028</td>\n",
              "    </tr>\n",
              "    <tr>\n",
              "      <th>25%</th>\n",
              "      <td>2.451362e+06</td>\n",
              "      <td>6.009176e+12</td>\n",
              "      <td>1.566275e+07</td>\n",
              "      <td>0.630964</td>\n",
              "    </tr>\n",
              "    <tr>\n",
              "      <th>50%</th>\n",
              "      <td>5.032102e+06</td>\n",
              "      <td>2.532205e+13</td>\n",
              "      <td>3.372389e+07</td>\n",
              "      <td>1.355770</td>\n",
              "    </tr>\n",
              "    <tr>\n",
              "      <th>75%</th>\n",
              "      <td>7.523041e+06</td>\n",
              "      <td>5.659615e+13</td>\n",
              "      <td>5.173139e+07</td>\n",
              "      <td>2.076820</td>\n",
              "    </tr>\n",
              "    <tr>\n",
              "      <th>max</th>\n",
              "      <td>9.995358e+06</td>\n",
              "      <td>9.990718e+13</td>\n",
              "      <td>6.996549e+07</td>\n",
              "      <td>3.315540</td>\n",
              "    </tr>\n",
              "  </tbody>\n",
              "</table>\n",
              "</div>"
            ],
            "text/plain": [
              "               size       size**2  size.log(size)         time\n",
              "count  5.211000e+03  5.211000e+03    5.211000e+03  5211.000000\n",
              "mean   4.991583e+06  3.334470e+13    3.385943e+07     1.363322\n",
              "std    2.903517e+06  2.997776e+13    2.053834e+07     0.825849\n",
              "min    2.390000e+02  5.712100e+04    5.684371e+02     0.000028\n",
              "25%    2.451362e+06  6.009176e+12    1.566275e+07     0.630964\n",
              "50%    5.032102e+06  2.532205e+13    3.372389e+07     1.355770\n",
              "75%    7.523041e+06  5.659615e+13    5.173139e+07     2.076820\n",
              "max    9.995358e+06  9.990718e+13    6.996549e+07     3.315540"
            ]
          },
          "metadata": {
            "tags": []
          },
          "execution_count": 6
        }
      ]
    },
    {
      "cell_type": "markdown",
      "metadata": {
        "id": "1xYa5ZOgwFUY",
        "colab_type": "text"
      },
      "source": [
        "#### **Data visualization**"
      ]
    },
    {
      "cell_type": "code",
      "metadata": {
        "id": "pIqOWemSwvgQ",
        "colab_type": "code",
        "outputId": "df38057a-0ebc-4b7c-b493-9cc31b6a891d",
        "colab": {
          "base_uri": "https://localhost:8080/",
          "height": 595
        }
      },
      "source": [
        "plt.figure(figsize=(8,8))\n",
        "features = dataset.columns[:-1]\n",
        "sns.pairplot(dataset[features],palette='coolwarm')\n",
        "plt.show()"
      ],
      "execution_count": 7,
      "outputs": [
        {
          "output_type": "display_data",
          "data": {
            "text/plain": [
              "<Figure size 576x576 with 0 Axes>"
            ]
          },
          "metadata": {
            "tags": []
          }
        },
        {
          "output_type": "display_data",
          "data": {
            "image/png": "[encoded data removed]",
            "text/plain": [
              "<Figure size 540x540 with 12 Axes>"
            ]
          },
          "metadata": {
            "tags": [],
            "needs_background": "light"
          }
        }
      ]
    },
    {
      "cell_type": "code",
      "metadata": {
        "id": "ezYO52TlSlQq",
        "colab_type": "code",
        "colab": {
          "base_uri": "https://localhost:8080/",
          "height": 837
        },
        "outputId": "05a942b4-95c0-4f93-ea9d-da0c9b7fdbfc"
      },
      "source": [
        "X_size = dataset['size']\n",
        "y_size = dataset['time']\n",
        "plt.title('Relationship between X and Y')\n",
        "plt.scatter(X_size, y_size,  color='black')\n",
        "plt.xlabel('X_size')\n",
        "plt.ylabel('Y_size')\n",
        "plt.show()\n",
        "\n",
        "plt.subplot(1, 2, 1)\n",
        "plt.title('X_size')\n",
        "plt.hist(X_size)\n",
        "\n",
        "plt.subplot(1, 2, 2)\n",
        "plt.title('y_size')\n",
        "plt.hist(y_size)\n",
        "plt.show()\n",
        "\n",
        "plt.subplot(1, 2, 1)\n",
        "plt.title('X_size')\n",
        "plt.boxplot(X_size)\n",
        "\n",
        "plt.subplot(1, 2, 2)\n",
        "plt.title('y_size')\n",
        "plt.boxplot(y_size)\n",
        "plt.show()"
      ],
      "execution_count": 8,
      "outputs": [
        {
          "output_type": "display_data",
          "data": {
            "image/png": "[encoded data removed]",
            "text/plain": [
              "<Figure size 432x288 with 1 Axes>"
            ]
          },
          "metadata": {
            "tags": [],
            "needs_background": "light"
          }
        },
        {
          "output_type": "display_data",
          "data": {
            "image/png": "[encoded data removed]",
            "text/plain": [
              "<Figure size 432x288 with 2 Axes>"
            ]
          },
          "metadata": {
            "tags": [],
            "needs_background": "light"
          }
        },
        {
          "output_type": "display_data",
          "data": {
            "image/png": "[encoded data removed]",
            "text/plain": [
              "<Figure size 432x288 with 2 Axes>"
            ]
          },
          "metadata": {
            "tags": [],
            "needs_background": "light"
          }
        }
      ]
    },
    {
      "cell_type": "markdown",
      "metadata": {
        "id": "d8F7qma9Smnt",
        "colab_type": "text"
      },
      "source": [
        "#### **Evaluate Some Algorithms**"
      ]
    },
    {
      "cell_type": "code",
      "metadata": {
        "id": "XHyquIFF_fiC",
        "colab_type": "code",
        "colab": {}
      },
      "source": [
        "X = dataset.iloc[:,0:3]\n",
        "y = dataset.iloc[:,3]\n",
        "X_train, X_validation, Y_train, Y_validation = train_test_split(X, y, test_size=0.20, random_state=1)"
      ],
      "execution_count": 0,
      "outputs": []
    },
    {
      "cell_type": "code",
      "metadata": {
        "id": "_LO9-Pa2_bBo",
        "colab_type": "code",
        "outputId": "b04473f3-239b-4907-d88a-5500fdcf89cf",
        "colab": {
          "base_uri": "https://localhost:8080/",
          "height": 84
        }
      },
      "source": [
        "models = []\n",
        "models.append(('LR :', LinearRegression())) #Linear Regression\n",
        "models.append(('SVR:', SVR())) #Support Vector Regression\n",
        "models.append(('DTR:', DecisionTreeRegressor(random_state=1))) #Decision Tree Regression\n",
        "models.append(('RFR:', RandomForestRegressor(n_estimators = 10, random_state=1))) #Random Forest Regression\n",
        "# Evaluate each model in turn\n",
        "names = []\n",
        "for name, model in models:\n",
        "  model.fit(X_train,Y_train)\n",
        "  y_predict = model.predict(X_validation)\n",
        "  results = mean_absolute_error(Y_validation,y_predict)\n",
        "  print(name,results)"
      ],
      "execution_count": 10,
      "outputs": [
        {
          "output_type": "stream",
          "text": [
            "LR : 0.022466738960920524\n",
            "SVR: 0.0466377138595479\n",
            "DTR: 0.034486488830297216\n",
            "RFR: 0.02946093943943074\n"
          ],
          "name": "stdout"
        }
      ]
    },
    {
      "cell_type": "markdown",
      "metadata": {
        "id": "Fd6gSKNXTkQE",
        "colab_type": "text"
      },
      "source": [
        "#### **Linear Regression is the best model**\n",
        "Make predictions on validation dataset"
      ]
    },
    {
      "cell_type": "code",
      "metadata": {
        "id": "McP5hDQ1oc_D",
        "colab_type": "code",
        "outputId": "9a42deec-11b1-4cbf-839d-f853b4a87aa5",
        "colab": {
          "base_uri": "https://localhost:8080/",
          "height": 34
        }
      },
      "source": [
        "test = [[4032139, 16258144915321, 2.663444e+07]]\n",
        "LR_model = LinearRegression()\n",
        "LR_model.fit(X_train,Y_train)\n",
        "y = LR_model.predict(test)\n",
        "y"
      ],
      "execution_count": 11,
      "outputs": [
        {
          "output_type": "execute_result",
          "data": {
            "text/plain": [
              "array([1.07461698])"
            ]
          },
          "metadata": {
            "tags": []
          },
          "execution_count": 11
        }
      ]
    }
  ]
}