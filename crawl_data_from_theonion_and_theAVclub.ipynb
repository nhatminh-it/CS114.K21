{
  "nbformat": 4,
  "nbformat_minor": 0,
  "metadata": {
    "colab": {
      "name": "crawl_data.ipynb",
      "provenance": [],
      "collapsed_sections": [],
      "authorship_tag": "ABX9TyM+CzJs3QoLZq9EKSX//tNw",
      "include_colab_link": true
    },
    "kernelspec": {
      "name": "python3",
      "display_name": "Python 3"
    }
  },
  "cells": [
    {
      "cell_type": "markdown",
      "metadata": {
        "id": "view-in-github",
        "colab_type": "text"
      },
      "source": [
        "<a href=\"https://colab.research.google.com/github/nhatminh-it/CS114.K21/blob/master/crawl_data_from_theonion_and_theAVclub.ipynb\" target=\"_parent\"><img src=\"https://colab.research.google.com/assets/colab-badge.svg\" alt=\"Open In Colab\"/></a>"
      ]
    },
    {
      "cell_type": "code",
      "metadata": {
        "id": "HNWOxd-rYly7",
        "colab_type": "code",
        "colab": {
          "base_uri": "https://localhost:8080/",
          "height": 34
        },
        "outputId": "23e5a429-8dbc-4b46-de0a-6376a5d50e64"
      },
      "source": [
        "! pip install beautifulsoup4"
      ],
      "execution_count": null,
      "outputs": [
        {
          "output_type": "stream",
          "text": [
            "Requirement already satisfied: beautifulsoup4 in /usr/local/lib/python3.6/dist-packages (4.6.3)\n"
          ],
          "name": "stdout"
        }
      ]
    },
    {
      "cell_type": "code",
      "metadata": {
        "id": "0YcCAl1lYm_n",
        "colab_type": "code",
        "colab": {
          "base_uri": "https://localhost:8080/",
          "height": 101
        },
        "outputId": "5b5a84e9-ce68-4723-b1bb-9664488ef70a"
      },
      "source": [
        "! pip install requests"
      ],
      "execution_count": null,
      "outputs": [
        {
          "output_type": "stream",
          "text": [
            "Requirement already satisfied: requests in /usr/local/lib/python3.6/dist-packages (2.23.0)\n",
            "Requirement already satisfied: chardet<4,>=3.0.2 in /usr/local/lib/python3.6/dist-packages (from requests) (3.0.4)\n",
            "Requirement already satisfied: certifi>=2017.4.17 in /usr/local/lib/python3.6/dist-packages (from requests) (2020.4.5.2)\n",
            "Requirement already satisfied: idna<3,>=2.5 in /usr/local/lib/python3.6/dist-packages (from requests) (2.9)\n",
            "Requirement already satisfied: urllib3!=1.25.0,!=1.25.1,<1.26,>=1.21.1 in /usr/local/lib/python3.6/dist-packages (from requests) (1.24.3)\n"
          ],
          "name": "stdout"
        }
      ]
    },
    {
      "cell_type": "code",
      "metadata": {
        "id": "82_VNocgfxg4",
        "colab_type": "code",
        "colab": {}
      },
      "source": [
        "import numpy as np\n",
        "import pandas as pd"
      ],
      "execution_count": null,
      "outputs": []
    },
    {
      "cell_type": "code",
      "metadata": {
        "id": "OBrsevzbbi4t",
        "colab_type": "code",
        "colab": {}
      },
      "source": [
        "import requests\n",
        "from bs4 import BeautifulSoup"
      ],
      "execution_count": null,
      "outputs": []
    },
    {
      "cell_type": "code",
      "metadata": {
        "id": "qs9iPyRQbr6u",
        "colab_type": "code",
        "colab": {}
      },
      "source": [
        "def crawl(url, data, class_):\n",
        "  r1 = requests.get(url)\n",
        "  coverpage = r1.content\n",
        "  soup1 = BeautifulSoup(coverpage, 'html5lib')\n",
        "  coverpage_news = soup1.find_all(\"h2\", class_=class_)\n",
        "  for i in coverpage_news:\n",
        "    data.append(i.get_text())"
      ],
      "execution_count": null,
      "outputs": []
    },
    {
      "cell_type": "code",
      "metadata": {
        "id": "3o54PTH0GDJv",
        "colab_type": "code",
        "colab": {}
      },
      "source": [
        "def assign_lables(labels, amounts, is_sarcastic):\n",
        "  for i in range(amounts):\n",
        "    labels.append(is_sarcastic)\n",
        "  return labels"
      ],
      "execution_count": null,
      "outputs": []
    },
    {
      "cell_type": "code",
      "metadata": {
        "id": "vWWKUGod1KP3",
        "colab_type": "code",
        "colab": {}
      },
      "source": [
        "class_ = \"sc-759qgu-0 cYlVdn cw4lnv-6 eXwNRE\"\n",
        "url = \"https://www.theonion.com/latest\"\n",
        "more_stories = ''\n",
        "data= []\n",
        "labels = []\n",
        "while len(data)<1500:\n",
        "  crawl(url+more_stories, data, class_)\n",
        "  r1 = requests.get(url+more_stories)\n",
        "  coverpage = r1.content\n",
        "  soup1 = BeautifulSoup(coverpage, 'html5lib')\n",
        "  t = soup1.find_all(\"a\", class_=\"sc-1out364-0 hMndXN js_link\")\n",
        "  more_stories = t[-1].get('href')\n",
        "labels = assign_lables(labels, len(data) ,1)"
      ],
      "execution_count": null,
      "outputs": []
    },
    {
      "cell_type": "code",
      "metadata": {
        "id": "CGFSA4RKBIW9",
        "colab_type": "code",
        "colab": {}
      },
      "source": [
        "count = len(data)\n",
        "class_ = \"sc-759qgu-0 sc-759qgu-1 kYoTly sc-3kpz0l-8 PRCbV\"\n",
        "url = \"https://www.avclub.com/latest\"\n",
        "more_stories = ''\n",
        "while len(data)<3000:\n",
        "  crawl(url+more_stories, data, class_)\n",
        "  r1 = requests.get(url+more_stories)\n",
        "  coverpage = r1.content\n",
        "  soup1 = BeautifulSoup(coverpage, 'html5lib')\n",
        "  t = soup1.find_all(\"a\", class_=\"sc-1out364-0 hMndXN js_link\")\n",
        "  more_stories = t[-1].get('href')\n",
        "labels = assign_lables(labels, len(data) - count,0)"
      ],
      "execution_count": null,
      "outputs": []
    },
    {
      "cell_type": "code",
      "metadata": {
        "id": "Jq_vHaIAfTrH",
        "colab_type": "code",
        "colab": {
          "base_uri": "https://localhost:8080/",
          "height": 402
        },
        "outputId": "1521ff28-c440-495d-b1ee-440f1883ee50"
      },
      "source": [
        "df =pd.DataFrame({'is_sarcastic':labels,'headline': data})\n",
        "df.sample(frac=1).reset_index(drop=True)"
      ],
      "execution_count": null,
      "outputs": [
        {
          "output_type": "execute_result",
          "data": {
            "text/html": [
              "<div>\n",
              "<style scoped>\n",
              "    .dataframe tbody tr th:only-of-type {\n",
              "        vertical-align: middle;\n",
              "    }\n",
              "\n",
              "    .dataframe tbody tr th {\n",
              "        vertical-align: top;\n",
              "    }\n",
              "\n",
              "    .dataframe thead th {\n",
              "        text-align: right;\n",
              "    }\n",
              "</style>\n",
              "<table border=\"1\" class=\"dataframe\">\n",
              "  <thead>\n",
              "    <tr style=\"text-align: right;\">\n",
              "      <th></th>\n",
              "      <th>is_sarcastic</th>\n",
              "      <th>headline</th>\n",
              "    </tr>\n",
              "  </thead>\n",
              "  <tbody>\n",
              "    <tr>\n",
              "      <th>0</th>\n",
              "      <td>1</td>\n",
              "      <td>Sorry Gamers: ‘The Last Of Us Part II’ Has Bee...</td>\n",
              "    </tr>\n",
              "    <tr>\n",
              "      <th>1</th>\n",
              "      <td>1</td>\n",
              "      <td>Kamala Harris Supporter Insists Her Inspiring ...</td>\n",
              "    </tr>\n",
              "    <tr>\n",
              "      <th>2</th>\n",
              "      <td>1</td>\n",
              "      <td>Baby Emerges From Game Of Peekaboo Wiser, More...</td>\n",
              "    </tr>\n",
              "    <tr>\n",
              "      <th>3</th>\n",
              "      <td>0</td>\n",
              "      <td>Kipo fights evil between karaoke in Kipo And T...</td>\n",
              "    </tr>\n",
              "    <tr>\n",
              "      <th>4</th>\n",
              "      <td>0</td>\n",
              "      <td>Insecure struggles with the old Molly and Issa...</td>\n",
              "    </tr>\n",
              "    <tr>\n",
              "      <th>...</th>\n",
              "      <td>...</td>\n",
              "      <td>...</td>\n",
              "    </tr>\n",
              "    <tr>\n",
              "      <th>3010</th>\n",
              "      <td>0</td>\n",
              "      <td>Issa can't plan for everything as Insecure tur...</td>\n",
              "    </tr>\n",
              "    <tr>\n",
              "      <th>3011</th>\n",
              "      <td>0</td>\n",
              "      <td>Joe Bob Briggs brings us “24 hours of redneck ...</td>\n",
              "    </tr>\n",
              "    <tr>\n",
              "      <th>3012</th>\n",
              "      <td>0</td>\n",
              "      <td>Horror director delivers one hell of a jump sc...</td>\n",
              "    </tr>\n",
              "    <tr>\n",
              "      <th>3013</th>\n",
              "      <td>1</td>\n",
              "      <td>Report: Would’ve Been Nice If Dad Had Loved Or...</td>\n",
              "    </tr>\n",
              "    <tr>\n",
              "      <th>3014</th>\n",
              "      <td>1</td>\n",
              "      <td>Biden Addresses Sexual Assault Allegations: ‘M...</td>\n",
              "    </tr>\n",
              "  </tbody>\n",
              "</table>\n",
              "<p>3015 rows × 2 columns</p>\n",
              "</div>"
            ],
            "text/plain": [
              "      is_sarcastic                                           headline\n",
              "0                1  Sorry Gamers: ‘The Last Of Us Part II’ Has Bee...\n",
              "1                1  Kamala Harris Supporter Insists Her Inspiring ...\n",
              "2                1  Baby Emerges From Game Of Peekaboo Wiser, More...\n",
              "3                0  Kipo fights evil between karaoke in Kipo And T...\n",
              "4                0  Insecure struggles with the old Molly and Issa...\n",
              "...            ...                                                ...\n",
              "3010             0  Issa can't plan for everything as Insecure tur...\n",
              "3011             0  Joe Bob Briggs brings us “24 hours of redneck ...\n",
              "3012             0  Horror director delivers one hell of a jump sc...\n",
              "3013             1  Report: Would’ve Been Nice If Dad Had Loved Or...\n",
              "3014             1  Biden Addresses Sexual Assault Allegations: ‘M...\n",
              "\n",
              "[3015 rows x 2 columns]"
            ]
          },
          "metadata": {
            "tags": []
          },
          "execution_count": 9
        }
      ]
    }
  ]
}